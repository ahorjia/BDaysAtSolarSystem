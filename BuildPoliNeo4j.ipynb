{
  "nbformat": 4,
  "nbformat_minor": 0,
  "metadata": {
    "colab": {
      "provenance": [],
      "toc_visible": true,
      "authorship_tag": "ABX9TyOscA5hqPhNHULKf4dtYcpI",
      "include_colab_link": true
    },
    "kernelspec": {
      "name": "python3",
      "display_name": "Python 3"
    },
    "language_info": {
      "name": "python"
    }
  },
  "cells": [
    {
      "cell_type": "markdown",
      "metadata": {
        "id": "view-in-github",
        "colab_type": "text"
      },
      "source": [
        "<a href=\"https://colab.research.google.com/github/ahorjia/BDaysAtSolarSystem/blob/master/BuildPoliNeo4j.ipynb\" target=\"_parent\"><img src=\"https://colab.research.google.com/assets/colab-badge.svg\" alt=\"Open In Colab\"/></a>"
      ]
    },
    {
      "cell_type": "markdown",
      "source": [
        "# Init"
      ],
      "metadata": {
        "id": "j6apKPaY7-OD"
      }
    },
    {
      "cell_type": "code",
      "source": [
        "db_url = \"bolt://3.235.137.185:7687\"\n",
        "db_username = \"neo4j\"\n",
        "db_password = \"operabilities-topping-fireplug\""
      ],
      "metadata": {
        "id": "tgaifaLi8AlJ"
      },
      "execution_count": null,
      "outputs": []
    },
    {
      "cell_type": "code",
      "source": [
        "!pip install neo4j"
      ],
      "metadata": {
        "colab": {
          "base_uri": "https://localhost:8080/"
        },
        "id": "eHyCB5UrVCD6",
        "outputId": "f6c1e22d-f28a-46be-c341-4fd49d8ea147"
      },
      "execution_count": null,
      "outputs": [
        {
          "output_type": "stream",
          "name": "stdout",
          "text": [
            "Looking in indexes: https://pypi.org/simple, https://us-python.pkg.dev/colab-wheels/public/simple/\n",
            "Requirement already satisfied: neo4j in /usr/local/lib/python3.8/dist-packages (5.2.1)\n",
            "Requirement already satisfied: pytz in /usr/local/lib/python3.8/dist-packages (from neo4j) (2022.7)\n"
          ]
        }
      ]
    },
    {
      "cell_type": "code",
      "source": [
        "!pip3 install neo4j-driver"
      ],
      "metadata": {
        "colab": {
          "base_uri": "https://localhost:8080/"
        },
        "id": "5LSVu8sQVxEw",
        "outputId": "ab0e2ce0-258a-4455-d9ea-3363b12ee0ae"
      },
      "execution_count": null,
      "outputs": [
        {
          "output_type": "stream",
          "name": "stdout",
          "text": [
            "Looking in indexes: https://pypi.org/simple, https://us-python.pkg.dev/colab-wheels/public/simple/\n",
            "Requirement already satisfied: neo4j-driver in /usr/local/lib/python3.8/dist-packages (5.2.1)\n",
            "Requirement already satisfied: pytz in /usr/local/lib/python3.8/dist-packages (from neo4j-driver) (2022.7)\n"
          ]
        }
      ]
    },
    {
      "cell_type": "markdown",
      "source": [
        "*   Goto https://neo4j.com/sandbox/\n",
        "*   Click on \"Launch the free sandbox\"\n",
        "*   Create a Blank Sandbox"
      ],
      "metadata": {
        "id": "hkv2z5f5WJkf"
      }
    },
    {
      "cell_type": "code",
      "source": [
        "!pip install py2neo"
      ],
      "metadata": {
        "colab": {
          "base_uri": "https://localhost:8080/"
        },
        "id": "tLxn2kbbmv8c",
        "outputId": "dc3cbd5e-4a0f-44b6-9cca-890b8d3ac7ad"
      },
      "execution_count": null,
      "outputs": [
        {
          "output_type": "stream",
          "name": "stdout",
          "text": [
            "Looking in indexes: https://pypi.org/simple, https://us-python.pkg.dev/colab-wheels/public/simple/\n",
            "Requirement already satisfied: py2neo in /usr/local/lib/python3.8/dist-packages (2021.2.3)\n",
            "Requirement already satisfied: interchange~=2021.0.4 in /usr/local/lib/python3.8/dist-packages (from py2neo) (2021.0.4)\n",
            "Requirement already satisfied: six>=1.15.0 in /usr/local/lib/python3.8/dist-packages (from py2neo) (1.15.0)\n",
            "Requirement already satisfied: pansi>=2020.7.3 in /usr/local/lib/python3.8/dist-packages (from py2neo) (2020.7.3)\n",
            "Requirement already satisfied: urllib3 in /usr/local/lib/python3.8/dist-packages (from py2neo) (1.24.3)\n",
            "Requirement already satisfied: monotonic in /usr/local/lib/python3.8/dist-packages (from py2neo) (1.6)\n",
            "Requirement already satisfied: pygments>=2.0.0 in /usr/local/lib/python3.8/dist-packages (from py2neo) (2.6.1)\n",
            "Requirement already satisfied: packaging in /usr/local/lib/python3.8/dist-packages (from py2neo) (21.3)\n",
            "Requirement already satisfied: certifi in /usr/local/lib/python3.8/dist-packages (from py2neo) (2022.12.7)\n",
            "Requirement already satisfied: pytz in /usr/local/lib/python3.8/dist-packages (from interchange~=2021.0.4->py2neo) (2022.7)\n",
            "Requirement already satisfied: pyparsing!=3.0.5,>=2.0.2 in /usr/local/lib/python3.8/dist-packages (from packaging->py2neo) (3.0.9)\n"
          ]
        }
      ]
    },
    {
      "cell_type": "markdown",
      "source": [
        "# Basic Graph"
      ],
      "metadata": {
        "id": "JkQrsdCj8OUg"
      }
    },
    {
      "cell_type": "code",
      "source": [
        "from py2neo import Graph\n",
        "from py2neo import Graph, Node, Relationship\n",
        "\n",
        "graph = Graph(db_url, auth=(db_username, db_password))\n",
        "\n",
        "# Clear the database\n",
        "graph.run(\"MATCH (n) DETACH DELETE n\")"
      ],
      "metadata": {
        "colab": {
          "base_uri": "https://localhost:8080/",
          "height": 34
        },
        "id": "MZxjyBvDVSMd",
        "outputId": "c93979d2-61b2-4b41-bd24-08b0f3f3dba7"
      },
      "execution_count": null,
      "outputs": [
        {
          "output_type": "execute_result",
          "data": {
            "text/plain": [
              "(No data)"
            ],
            "text/html": [
              "(No data)"
            ]
          },
          "metadata": {},
          "execution_count": 5
        }
      ]
    },
    {
      "cell_type": "code",
      "source": [
        "tx = graph.begin()\n",
        "congress_116 = Node(\"Congress\", name=\"Congress116\")\n",
        "congress_117 = Node(\"Congress\", name=\"Congress117\")\n",
        "tx.create(congress_116)\n",
        "tx.create(congress_117)\n",
        "senate_116 = Node(\"Senate\", name=\"Senate116\")\n",
        "senate_117 = Node(\"Senate\", name=\"Senate117\")\n",
        "house_116 = Node(\"House\", name=\"House116\")\n",
        "house_117 = Node(\"House\", name=\"House117\")\n",
        "sen116 = Relationship(senate_116, \"IS_A_CHAMBER_OF\", congress_116)\n",
        "sen117 = Relationship(senate_117, \"IS_A_CHAMBER_OF\", congress_117)\n",
        "hou116 = Relationship(house_116, \"IS_A_CHAMBER_OF\", congress_116)\n",
        "hou117 = Relationship(house_117, \"IS_A_CHAMBER_OF\", congress_117)\n",
        "\n",
        "tx.create(sen116)\n",
        "tx.create(sen117)\n",
        "tx.create(hou116)\n",
        "tx.create(hou117)\n",
        "\n",
        "p1 = Node(\"Person\", name=\"P1\")\n",
        "p2 = Node(\"Person\", name=\"P2\")\n",
        "p3 = Node(\"Person\", name=\"P3\")\n",
        "p4 = Node(\"Person\", name=\"P4\")\n",
        "tx.create(Relationship(p1, \"MEMBER\", house_116))\n",
        "tx.create(Relationship(p1, \"MEMBER\", house_117))\n",
        "tx.create(Relationship(p2, \"MEMBER\", house_116))\n",
        "tx.create(Relationship(p2, \"MEMBER\", senate_117))\n",
        "tx.create(Relationship(p3, \"MEMBER\", senate_116))\n",
        "tx.create(Relationship(p3, \"MEMBER\", senate_117))\n",
        "tx.create(Relationship(p4, \"MEMBER\", senate_116))\n",
        "\n",
        "b1 = Node(\"Bill\", name=\"B1\")\n",
        "b2 = Node(\"Bill\", name=\"B2\")\n",
        "b3 = Node(\"Bill\", name=\"B3\")\n",
        "tx.create(Relationship(p1, \"Co-Sponsored\", b1))\n",
        "tx.create(Relationship(p1, \"Sponsored\", b2))\n",
        "tx.create(Relationship(p2, \"Sponsored\", b1))\n",
        "tx.create(Relationship(b1, \"SentTo\", house_116))\n",
        "tx.create(Relationship(b1, \"SentTo\", senate_116))\n",
        "tx.create(Relationship(b3, \"SentTo\", house_117))\n",
        "tx.create(Relationship(b3, \"SentTo\", senate_117))\n",
        "\n",
        "l1 = Node(\"Lobbyist\", name=\"L1\")\n",
        "l2 = Node(\"Lobbyist\", name=\"L2\")\n",
        "l3 = Node(\"Lobbyist\", name=\"L3\")\n",
        "tx.create(Relationship(l1, \"Lobbied\", b1))\n",
        "tx.create(Relationship(l2, \"Lobbied\", b1))\n",
        "tx.create(Relationship(l3, \"Lobbied\", b2))\n",
        "tx.create(Relationship(l2, \"Lobbied\", b2))\n",
        "\n",
        "graph.commit(tx)\n",
        "graph.exists(sen116)\n",
        "graph.exists(sen117)\n",
        "graph.exists(hou116)\n",
        "graph.exists(hou117)"
      ],
      "metadata": {
        "id": "IDC6Mj-DWPiR",
        "colab": {
          "base_uri": "https://localhost:8080/"
        },
        "outputId": "a823f193-05db-4893-865e-fba37f945fe9"
      },
      "execution_count": null,
      "outputs": [
        {
          "output_type": "execute_result",
          "data": {
            "text/plain": [
              "True"
            ]
          },
          "metadata": {},
          "execution_count": 6
        }
      ]
    },
    {
      "cell_type": "markdown",
      "source": [
        "\n",
        "\n",
        "*   Go back to you database in Neo4j and see the nodes"
      ],
      "metadata": {
        "id": "aA9b2VBIBmd_"
      }
    },
    {
      "cell_type": "markdown",
      "source": [
        "# Bulk Node Creation with Merge Operation"
      ],
      "metadata": {
        "id": "4TBEighG7z94"
      }
    },
    {
      "cell_type": "code",
      "source": [
        "from py2neo import Graph\n",
        "from py2neo.bulk import merge_nodes\n",
        "from py2neo.bulk import create_relationships\n",
        "\n",
        "graph = Graph(db_url, auth=(db_username, db_password))\n",
        "\n",
        "# Clear the database\n",
        "graph.run(\"MATCH (n) DETACH DELETE n\")\n",
        "\n",
        "tx = graph.begin()\n",
        "senate_116 = Node(\"Senate\", name=\"Senate116\")\n",
        "tx.create(senate_116)\n",
        "graph.commit(tx) \n",
        "\n",
        "\n",
        "keys = [\"name\", \"age\"]\n",
        "data = [\n",
        "    [\"Alice\", 33],\n",
        "    [\"Bob\", 44],\n",
        "]\n",
        "merge_nodes(graph.auto(), data, (\"Person\", \"name\"), keys=keys)\n",
        "\n",
        "data = [\n",
        "    ((\"Alice\"), {}, senate_116.identity),\n",
        "]\n",
        "create_relationships(graph.auto(), data, \"WORKS_FOR\", start_node_key=(\"Person\", \"name\"))\n"
      ],
      "metadata": {
        "id": "2Hc8i1wfM3zB"
      },
      "execution_count": null,
      "outputs": []
    }
  ]
}